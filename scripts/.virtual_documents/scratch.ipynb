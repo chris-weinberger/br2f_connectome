import numpy as np
import pandas as pd
from pycirclize import Circos


df = pd.read_excel('../data/processed_data.xlsx', header=0, index_col=0)


df.head()


hippocampal_connections = ['CA3','CA2','CA1v','CA1d','SUBv','SUBd','PRE','POST','PAR', 'DG'] 


brain_regions = df.index.to_numpy()





# each region is duplicated across right and left hemisphere,
# so let's grab the unique regions
left_hemisphere = brain_regions[:392]


df_left_hemisphere = df[left_hemisphere]
df_left_hemisphere = df_left_hemisphere.head(392)


df_left_hemisphere


# construct 9x9 matrix of just the hippocampal regions from left hemisphere matrix
df_lh_rc_hippo = df_left_hemisphere[df_left_hemisphere.index.isin(hippocampal_connections)] #rows
df_lh_rc_hippo = df_lh_rc_hippo.T[df_lh_rc_hippo.T.index.isin(hippocampal_connections)] #cols


# plot these regions for hippocampus in left hemisphere
circos_lh_hc = Circos.initialize_from_matrix(df_lh_rc_hippo, cmap="jet")
circos_lh_hc.savefig("hippocampus_left_hemisphere_connectivity.svg")





# duplicate columns are ingested in pandas with '.1' appended to column name
df.columns = df.columns.str.replace(r'\.1$', '', regex=True)

# we are going to sum across hemispheres in rows - REDACTED
df_unique_r = df.groupby(df.index).sum()
df_unique_rc = df_unique_r.T.groupby(df_unique_r.T.index).sum()


# grab just the hippocampal regions from the reduced summed matrix
df_unique_rc_hippo = df_unique_rc[df_unique_rc.index.isin(hippocampal_connections)] #rows
df_unique_rc_hippo = df_unique_rc_hippo.T[df_unique_rc_hippo.T.index.isin(hippocampal_connections)] #cols


# this is the larger 18x18 matrix that includes all hippocampal regions across hemispheres

# filter dataframe so that rows only include hippocampal
df_r_hc = df[df.index.isin(hippocampal_connections)]
df_rc_hc = df_r_hc.loc[:, df_r_hc.columns.isin(hippocampal_connections)]


df_average_hc = df_rc_hc.groupby(df_rc_hc.index).mean()
df_average_hc = df_average_hc.T.groupby(df_average_hc.T.index).mean().T

df_max_hc = df_rc_hc.groupby(df_rc_hc.index).max()
df_max_hc = df_max_hc.T.groupby(df_max_hc.T.index).max().T


# create circular visualization of these hippocampal matricies
circos_max_hc = Circos.initialize_from_matrix(df_max_hc)
circos_average_hc = Circos.initialize_from_matrix(df_average_hc)

circos_max_hc.savefig("hippocampus_max_connectivity.svg")
circos_average_hc.savefig("hippocampus_average_connectivity.svg")





# average across identical regions for within hippocampal connections
# then create plot of 9x9 matrix and visualize

# create the same thing but instead of averaging do the max

# treat all hippocampal subregions as one thing... so average all values across the 9 rows
# then two lists (ranking strengths):
# 1. to-connectivity (average across columns)
# 2. from-connectivity (average across rows)





df_from_connectivity = df_left_hemisphere[df_left_hemisphere.index.isin(hippocampal_connections)]


hippocampus = df_from_connectivity.max(axis=0)
df_from_connectivity.loc["from_hippocampus"] = hippocampus


# drop extra rows
df_from_connectivity = df_from_connectivity.loc[~df_from_connectivity.index.isin(hippocampal_connections)]


df_from_connectivity


# take the transpose so you can sort rows and sort based on values
df_from_connectivity_t = df_from_connectivity.T


df_from_connectivity_sorted = df_from_connectivity_t.sort_values(by='from_hippocampus', ascending=False)


df_from_connectivity_sorted.head()





# make sure only hippocampus in the columns
df_c_hc = df_left_hemisphere.loc[:, df_left_hemisphere.columns.isin(hippocampal_connections)]


# take the transpose of the dataframe and add the averaged columns
hippocampus_to = df_c_hc.max(axis=1)
df_c_hc_t = df_c_hc.T
df_c_hc_t.loc["to_hippocampus"] = hippocampus_to


# remove rows (they were columns) that represent individual parts of the hippocampus
df_to_connectivity = df_c_hc_t.loc[~df_c_hc_t.index.isin(hippocampal_connections)]


# take the transpose here and sort columns
df_to_connectivity = df_to_connectivity.T.sort_values(by='to_hippocampus', ascending=False)


df_to_connectivity.head()


# re-reading the paper and it appears the repeat brain regions appear because it's
# divided into left and right sides of the brain





# map index to names and general region

names_df = pd.read_excel('../data/naming_doc.xlsx', header=2)
names_df = names_df.rename(columns={"Name.1":"Region", "Abbreviation.1":"Abbrev"})


names_df


# from_connections
df_from_connectivity_with_index = df_from_connectivity_sorted.reset_index().rename(columns={"index":"Abbrev"})

df_rank_from_hippocampus_connections = pd.merge(
    df_from_connectivity_with_index, names_df, on='Abbrev', how='inner')

df_rank_from_hippocampus_connections = df_rank_from_hippocampus_connections.drop(
    ['Number', 'Abbreviation', '(blank if no difference)'], axis=1)


df_rank_from_hippocampus_connections


df_to_connectivity.reset_index()


# to_connections
df_to_connectivity_with_index = df_to_connectivity.reset_index().rename(columns={"Abbr.":"Abbrev"})

df_rank_to_hippocampus_connections = pd.merge(df_to_connectivity_with_index, names_df, on='Abbrev', how='inner')

df_rank_to_hippocampus_connections = df_rank_to_hippocampus_connections.drop(
    ['Number', 'Abbreviation', '(blank if no difference)'], axis=1)


df_rank_to_hippocampus_connections


# save both dataframes to excel files
df_rank_from_hippocampus_connections.to_excel('../data/rank_from_hippocampus_connections_max.xlsx')
df_rank_to_hippocampus_connections.to_excel('../data/rank_to_hippocampus_connections_max.xlsx')





# construct regions
AHA_regions = np.array(['AHA', 'AHNa', 'AHNc', 'AHNp', 'AHNd'])
DHA_regions = np.array(['DMHa','DMHp','DMHv'])
mammillary_regions = np.array(['TM','MM','LM','SUMm','SUMl'])
LHA_regions = np.array([
    'LHAa','LHAjvv','LHAjvd','LHAjp','LHAjd','LHAsfa','LHAsfp','LHAs','LHAv','LHAd','LHAp'
])

hippocampus_regions = np.array(['DG','CA3','CA2','CA1v','CA1d'])

hypothalamus_regions = np.concatenate(
    (AHA_regions, DHA_regions, mammillary_regions, LHA_regions), axis=0
)

hyp_hipp_regions = np.concatenate((hypothalamus_regions, hippocampus_regions), axis=0)


# reduce the left hemisphere dataframe to only include hypothalamus and hippocampal regions
df_hyp_hipp = df_left_hemisphere[hyp_hipp_regions]
df_hyp_hipp = df_hyp_hipp[df_hyp_hipp.index.isin(hyp_hipp_regions)]


#LHA
# rows
LHA = df_hyp_hipp[df_hyp_hipp.index.isin(LHA_regions)].sum(axis=0)
df_hyp_hipp.loc["LHA"] = LHA

# delete extra LHA subregions from rows
df_hyp_hipp = df_hyp_hipp.loc[
~df_hyp_hipp.index.isin(LHA_regions)
]


# columns
LHA_col_sum = df_hyp_hipp[LHA_regions].sum(axis=1)
df_hyp_hipp["LHA"] = LHA_col_sum

# delete extra LHA subregion from columns
df_hyp_hipp = df_hyp_hipp.drop(LHA_regions, axis=1)


# DHA
DHA_row_sum = df_hyp_hipp[df_hyp_hipp.index.isin(DHA_regions)].sum(axis=0)
df_hyp_hipp.loc["DHA"] = DHA_row_sum

# delete extra DHA subregions from rows
df_hyp_hipp = df_hyp_hipp.loc[
~df_hyp_hipp.index.isin(DHA_regions)
]

# columns
DHA_col_sum = df_hyp_hipp[DHA_regions].sum(axis=1)
df_hyp_hipp.loc[:,"DHA"] = DHA_col_sum

# delete extra LHA subregion from columns
df_hyp_hipp = df_hyp_hipp.drop(DHA_regions, axis=1)


# mammillary
mammillary_row_sum = df_hyp_hipp[df_hyp_hipp.index.isin(mammillary_regions)].sum(axis=0)
df_hyp_hipp.loc["mammillary"] = mammillary_row_sum

# delete extra DHA subregions from rows
df_hyp_hipp = df_hyp_hipp.loc[
~df_hyp_hipp.index.isin(mammillary_regions)
]

# columns
mammillary_col_sum = df_hyp_hipp[mammillary_regions].sum(axis=1)
df_hyp_hipp.loc[:,"mammillary"] = mammillary_col_sum

# delete extra LHA subregion from columns
df_hyp_hipp = df_hyp_hipp.drop(mammillary_regions, axis=1)


# AHA
AHA_row_sum = df_hyp_hipp[df_hyp_hipp.index.isin(AHA_regions)].sum(axis=0)
df_hyp_hipp.loc["AHA_1"] = AHA_row_sum

# delete extra DHA subregions from rows
df_hyp_hipp = df_hyp_hipp.loc[
~df_hyp_hipp.index.isin(AHA_regions)
]

# columns
AHA_col_sum = df_hyp_hipp[AHA_regions].sum(axis=1)
df_hyp_hipp.loc[:,"AHA_1"] = AHA_col_sum

# delete extra LHA subregion from columns
df_hyp_hipp = df_hyp_hipp.drop(AHA_regions, axis=1)


# rename 'AHA_1' to 'AHA'
df_hyp_hipp = df_hyp_hipp.rename(index={"AHA_1":"AHA"})
df_hyp_hipp = df_hyp_hipp.rename(columns={"AHA_1":"AHA"})


df_hyp_hipp


for i in range(len(df_hyp_hipp.index)):
    df_hyp_hipp.iloc[i,i] = 0


df_hyp_hipp


circos_hyp_hipp = Circos.initialize_from_matrix(df_hyp_hipp, cmap="tab10")

circos_hyp_hipp.savefig("hippocampus_hypothalamus_connectivity.svg")


# we need to remove connections within the hypothalamus--
# we're only interested in hippocampal-hypothalamus connectivity

hypothalamus_aggregated_regions = np.array(["LHA",'DHA', 'mammillary', 'AHA'])
for subregion_i in range(len(hypothalamus_aggregated_regions)):
    for subregion_j in range(len(hypothalamus_aggregated_regions)):
        df_hyp_hipp.loc[
        hypothalamus_aggregated_regions[subregion_i], 
        hypothalamus_aggregated_regions[subregion_j]
        ] = 0


df_hyp_hipp.loc["AHA","DHA"]


df_hyp_hipp


circos_hyp_hipp_only = Circos.initialize_from_matrix(df_hyp_hipp, cmap="tab10")

circos_hyp_hipp_only.savefig("hippocampus_hypothalamus_connectivity_only.svg")


#clear out intrinsic connections between hippocampus_regions
for subregion_i in range(len(hippocampus_regions)):
    for subregion_j in range(len(hippocampus_regions)):
        df_hyp_hipp.loc[
        hippocampus_regions[subregion_i], 
        hippocampus_regions[subregion_j]
        ] = 0


df_hyp_hipp


circos_hyp_hipp_extrinsic_only = Circos.initialize_from_matrix(df_hyp_hipp, cmap="tab10")

circos_hyp_hipp_extrinsic_only.savefig("hippocampus_hypothalamus_extrinsic_connectivity.svg")



