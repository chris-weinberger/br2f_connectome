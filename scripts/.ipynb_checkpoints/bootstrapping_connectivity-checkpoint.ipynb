{
 "cells": [
  {
   "cell_type": "markdown",
   "id": "14848aa5-0d3d-442b-9052-ddc61ddc3ba2",
   "metadata": {},
   "source": [
    "# Bootstrapping simulations"
   ]
  },
  {
   "cell_type": "markdown",
   "id": "f567afa3-f491-44a8-813b-3e348a6a06a7",
   "metadata": {},
   "source": [
    "We are interested in the extent to which hippocampal connectivity patterns are unique to the hippocampus rather than merely reflecting generic network structure in the brain. In this notebook, I will run two simulations. Here, I describe both:\n",
    "\n",
    "1. Run 1000 iterations. In each iteration, first randomly sample 7 regions from the brain, and form a connectivity matrix from those 7 regions to the rest of the brain regions. Then, I will get the intersection between the regions that the random subsample connects to and those that the hippocampus connects to. As an example, imagine the hippocampal regions connect to regions C,D, and E, and that the random subsample connects to regions C,D,E, and F. In this case, the intersection is regions C,D, and E, and we drop column F. We then calculate correlation matrices for both the hippocampal connectivity matrix and the random sample connectivity matrices, and get the correlation between these two matrices. We save this correlation each iteration and average at the end of 1000 simulations.\n",
    "\n",
    "\n",
    "3. In this simulation, we are interested in comparing how 7 random non-hippocampal regions connect to the set of regions that the hippocampus connects to, in the efferent condition, and how 7 random non-hippocampal regions recieve connections from the set of regions that project to the hippocampus, in the afferent condition. For example, imagine the hippocampus connects to regions W, X, Y, Z. We want to know what the \"average\" connectivity profile to regions W, X, Y, and Z will be. Same for afferent condition.\n",
    "- Run 1000 iterations. In each iteration, first randomly sample 7 regions from the brain excluding hippocampal regions. In the efferent condition, form a connectivity matrix between the randomly sampled regions and the set of regions that hippocampus projects to. In the afferent condition, form a connectivity matrix between the randomly sampled regions and the set of regions that hippocampus receives input from. Calculate the correlation matrices from both of these matrices. We average these correlation matrices over 1000 simulations, ignoring the iteration if it results in a NaN value for a given region."
   ]
  },
  {
   "cell_type": "markdown",
   "id": "810f4866-9074-4b5d-bedd-36d4638033bd",
   "metadata": {},
   "source": [
    "## Simulation 1"
   ]
  },
  {
   "cell_type": "code",
   "execution_count": 10,
   "id": "c4e0a391-4a48-4ab2-bec1-314e5602022e",
   "metadata": {},
   "outputs": [],
   "source": [
    "import numpy as np\n",
    "import pandas as pd\n",
    "import seaborn as sns\n",
    "import matplotlib.pyplot as plt\n",
    "from scipy.spatial.distance import pdist, squareform\n",
    "from sklearn.metrics.pairwise import cosine_distances, cosine_similarity\n",
    "from sklearn.metrics import pairwise_distances\n",
    "from sklearn.preprocessing import LabelEncoder\n",
    "from scipy.stats import spearmanr, pearsonr\n",
    "\n",
    "from sklearn.manifold import TSNE\n",
    "from sklearn.manifold import MDS"
   ]
  },
  {
   "cell_type": "code",
   "execution_count": 11,
   "id": "e1096d86-0260-493e-94b3-cb97733e9726",
   "metadata": {},
   "outputs": [],
   "source": [
    "df_average = pd.read_csv('../output/average_connectome_data.csv', header=0, index_col=0)"
   ]
  },
  {
   "cell_type": "code",
   "execution_count": 12,
   "id": "e8b50345-9507-4e8d-ac28-2f68779af164",
   "metadata": {},
   "outputs": [],
   "source": [
    "# define hippocampal subregions - updated on Mar. 5\n",
    "hippocampal_regions = np.array(['DG','CA3','CA2','CA1v','CA1d','SUBv','SUBd'])\n",
    "\n",
    "# FROM hippocampus\n",
    "df_avg_from = df_average[df_average.index.isin(hippocampal_regions)]\n",
    "df_avg_from = df_avg_from.drop(hippocampal_regions, axis=1) # drop hpc regions from columms\n",
    "\n",
    "# TO hippocampus\n",
    "df_average_t = df_average.T\n",
    "df_avg_to = df_average_t[df_average_t.index.isin(hippocampal_regions)]\n",
    "df_avg_to = df_avg_to.drop(hippocampal_regions, axis=1) # drop hpc regions from columms\n",
    "\n",
    "# filter to only include columns and rows with at least one connection\n",
    "df_avg_from = df_avg_from.loc[:,df_avg_from.apply(np.count_nonzero, axis=0) >= 1]\n",
    "df_avg_to = df_avg_to.loc[:,df_avg_to.apply(np.count_nonzero, axis=0) >= 1]\n",
    "\n",
    "# probably want to drop na columns and rows of all NaNs\n",
    "spearman_df_from_hpc = (df_avg_from.corr(method='spearman').dropna(axis=0, how='all')).dropna(axis=1, how='all')\n",
    "spearman_df_to_hpc = (df_avg_to.corr(method='spearman').dropna(axis=0, how='all')).dropna(axis=1, how='all')"
   ]
  },
  {
   "cell_type": "code",
   "execution_count": 13,
   "id": "06e11f9b-b827-40bf-b60d-9783c6b0a3ea",
   "metadata": {},
   "outputs": [],
   "source": [
    "num_sims = 1000\n",
    "\n",
    "correlation_afferent_arr = np.zeros(num_sims, dtype=float)\n",
    "correlation_efferent_arr = np.zeros(num_sims, dtype=float)\n",
    "\n",
    "for i in range(1000):\n",
    "    # Subsample size\n",
    "    k = 7\n",
    "    \n",
    "    # Random subsample without replacement\n",
    "    subsample = np.random.choice(df_average.index, size=k, replace=False)\n",
    "\n",
    "    # construct afferent / efferent connection matrices from random regions\n",
    "    # FROM random\n",
    "    df_avg_from_random_sample = df_average[df_average.index.isin(subsample)]\n",
    "    \n",
    "    # TO random\n",
    "    df_average_t = df_average.T\n",
    "    df_avg_to_random_sample = df_average_t[df_average_t.index.isin(subsample)]\n",
    "    \n",
    "    # probably want to drop na columns and rows of all NaNs\n",
    "    spearman_df_from_random_sample = (df_avg_from_random_sample.corr(method='spearman').dropna(axis=0, how='all')).dropna(axis=1, how='all')\n",
    "    spearman_df_to_random_sample = (df_avg_to_random_sample.corr(method='spearman').dropna(axis=0, how='all')).dropna(axis=1, how='all')\n",
    "    \n",
    "    common_indices_from = spearman_df_from_hpc.index.intersection(spearman_df_from_random_sample.index)\n",
    "    common_indices_to = spearman_df_to_hpc.index.intersection(spearman_df_to_random_sample.index)\n",
    "    \n",
    "    # efferent\n",
    "    rsa_spearman_aligned_from_hpc = spearman_df_from_hpc.loc[common_indices_from, common_indices_from]\n",
    "    rsa_spearman_aligned_from_random_sample = spearman_df_from_random_sample.loc[common_indices_from, common_indices_from]\n",
    "    \n",
    "    # afferent\n",
    "    rsa_spearman_aligned_to_hpc = spearman_df_to_hpc.loc[common_indices_to, common_indices_to]\n",
    "    rsa_spearman_aligned_to_random_sample = spearman_df_to_random_sample.loc[common_indices_to, common_indices_to]\n",
    "\n",
    "    flat_from_hpc = rsa_spearman_aligned_from_hpc.to_numpy().flatten()\n",
    "    flat_from_random_sample = rsa_spearman_aligned_from_random_sample.to_numpy().flatten()\n",
    "    \n",
    "    flat_to_hpc = rsa_spearman_aligned_to_hpc.to_numpy().flatten()\n",
    "    flat_to_random_sample = rsa_spearman_aligned_to_random_sample.to_numpy().flatten()\n",
    "\n",
    "    # get correlation values\n",
    "    correlation_afferent, p_aff = pearsonr(flat_to_hpc, flat_to_random_sample)\n",
    "    correlation_efferent, p_eff = pearsonr(flat_from_hpc, flat_from_random_sample)\n",
    "\n",
    "    correlation_afferent_arr[i] = correlation_afferent\n",
    "    correlation_efferent_arr[i] = correlation_efferent\n",
    "    "
   ]
  },
  {
   "cell_type": "code",
   "execution_count": 14,
   "id": "e9515b56-045a-436d-9d0d-6ec828975cce",
   "metadata": {},
   "outputs": [],
   "source": [
    "mean_corr_eff = np.mean(correlation_efferent_arr)\n",
    "mean_corr_aff = np.mean(correlation_afferent_arr)"
   ]
  },
  {
   "cell_type": "code",
   "execution_count": 15,
   "id": "e2e16c78-0c60-441c-8485-e26f262fdc58",
   "metadata": {},
   "outputs": [
    {
     "data": {
      "text/plain": [
       "0.19174172028385147"
      ]
     },
     "execution_count": 15,
     "metadata": {},
     "output_type": "execute_result"
    }
   ],
   "source": [
    "mean_corr_eff"
   ]
  },
  {
   "cell_type": "code",
   "execution_count": 16,
   "id": "f1fbf103-38f3-4e3d-a7c0-09dfbdc9272d",
   "metadata": {},
   "outputs": [
    {
     "data": {
      "text/plain": [
       "0.22423988158381736"
      ]
     },
     "execution_count": 16,
     "metadata": {},
     "output_type": "execute_result"
    }
   ],
   "source": [
    "mean_corr_aff"
   ]
  },
  {
   "cell_type": "code",
   "execution_count": 17,
   "id": "2f2c946f-6a84-4b9a-9b80-572a9c356978",
   "metadata": {},
   "outputs": [
    {
     "data": {
      "image/png": "[encoded data removed]",
      "text/plain": [
       "<Figure size 640x480 with 1 Axes>"
      ]
     },
     "metadata": {},
     "output_type": "display_data"
    }
   ],
   "source": [
    "# Plot histogram\n",
    "plt.hist(correlation_efferent_arr, bins=30, edgecolor='black')\n",
    "plt.xlabel('Value')\n",
    "plt.ylabel('Frequency')\n",
    "plt.title('Histogram of Efferent correlations between random regions and hpc')\n",
    "plt.show()"
   ]
  },
  {
   "cell_type": "code",
   "execution_count": 18,
   "id": "ca716ce0-20cc-41aa-9712-0cda566ae2b7",
   "metadata": {},
   "outputs": [
    {
     "data": {
      "image/png": "[encoded data removed]",
      "text/plain": [
       "<Figure size 640x480 with 1 Axes>"
      ]
     },
     "metadata": {},
     "output_type": "display_data"
    }
   ],
   "source": [
    "# Plot histogram\n",
    "plt.hist(correlation_afferent_arr, bins=30, edgecolor='black')\n",
    "plt.xlabel('Value')\n",
    "plt.ylabel('Frequency')\n",
    "plt.title('Histogram of afferent correlations between random regions and hpc')\n",
    "plt.show()"
   ]
  },
  {
   "cell_type": "markdown",
   "id": "89d98bf8-481b-4ed6-ac6b-9d4bcb5af71c",
   "metadata": {},
   "source": [
    "## Simulation 2"
   ]
  },
  {
   "cell_type": "code",
   "execution_count": 19,
   "id": "ff92ad2a-92a9-4f46-bf54-26c2e2f80e00",
   "metadata": {},
   "outputs": [],
   "source": [
    "# Assuming your inputs are:\n",
    "# connectivity_matrix: numpy array of shape (392, 392)\n",
    "# hippocampal_indices: list or array of 7 indices for hippocampal regions\n",
    "# target_cols: list or array of 162 indices of the target regions (columns)\n",
    "\n",
    "def bootstrap_correlations(connectivity_matrix, hippocampal_indices, target_cols, n_iterations=1000):\n",
    "    # this should be set to connectivity_matrix shape[0]\n",
    "    n_regions = df_average.shape[0]\n",
    "    n_targets = len(target_cols)\n",
    "\n",
    "    sum_matrix = pd.DataFrame(0.0, index=target_cols, columns=target_cols)\n",
    "    count_matrix = pd.DataFrame(0, index=target_cols, columns=target_cols)\n",
    "    \n",
    "    mask = np.isin(connectivity_matrix.index, hippocampal_regions, invert=True)\n",
    "    non_hippocampal_regions = connectivity_matrix.index[mask]\n",
    "\n",
    "    for i in range(n_iterations):\n",
    "        # Randomly sample 7 non-hippocampal regions\n",
    "        sampled_rows = np.random.choice(non_hippocampal_regions, size=7, replace=False)\n",
    "\n",
    "        # Extract the 7x162 matrix\n",
    "        sampled_matrix = connectivity_matrix.loc[sampled_rows, target_cols]\n",
    "\n",
    "        # compute correlation\n",
    "        corr_matrix = sampled_matrix.corr(method='spearman')\n",
    "\n",
    "        # fill out the correlation matrix for current iteration\n",
    "        # fill out mask matrix for current iteration\n",
    "        full_corr = pd.DataFrame(0.0, index=target_cols, columns=target_cols)\n",
    "        full_mask = pd.DataFrame(0, index=target_cols, columns=target_cols)\n",
    "        \n",
    "        for row_index, region_row in enumerate(target_cols):\n",
    "            for col_index, region_col in enumerate(target_cols):\n",
    "                if(not pd.isna(corr_matrix.loc[region_row,region_col])):\n",
    "                    full_corr.loc[region_row, region_col] = corr_matrix.loc[region_row,region_col]\n",
    "                    full_mask.loc[region_row, region_col] = 1\n",
    "\n",
    "\n",
    "        # Update accumulators\n",
    "        sum_matrix = sum_matrix + full_corr\n",
    "        count_matrix = count_matrix + full_mask\n",
    "\n",
    "    average_matrix = sum_matrix / count_matrix\n",
    "    return average_matrix, count_matrix"
   ]
  },
  {
   "cell_type": "code",
   "execution_count": null,
   "id": "f024ec83-244a-4ec4-a8ce-4891b6df6eec",
   "metadata": {},
   "outputs": [],
   "source": [
    "avg_corr_matrix_efferent, counts_efferent = bootstrap_correlations(connectivity_matrix = df_average, \n",
    "                                                 hippocampal_indices=hippocampal_regions, \n",
    "                                                 target_cols=spearman_df_from_hpc.index,\n",
    "                                                 n_iterations=1000)"
   ]
  },
  {
   "cell_type": "code",
   "execution_count": null,
   "id": "6a401085-e89c-429c-9ba2-10aaf057ad9e",
   "metadata": {},
   "outputs": [],
   "source": [
    "# Flatten matrices to get corresponding values\n",
    "x_values = spearman_df_from_hpc.to_numpy().flatten()  \n",
    "y_values = avg_corr_matrix_efferent.to_numpy().flatten()\n",
    "\n",
    "# Scatter plot\n",
    "plt.figure(figsize=(6, 6))\n",
    "plt.scatter(x_values, y_values, alpha=0.6, edgecolor=\"k\")\n",
    "plt.xlabel(\"Average correlations across 1000 simulations\")\n",
    "plt.ylabel(\"Hippocampal correlations\")\n",
    "plt.title(\"Scatter plot comparing efferent correlation values between HPC and random sample regions\")\n",
    "plt.axhline(y=0, color=\"gray\", linestyle=\"--\", linewidth=0.8)\n",
    "plt.axvline(x=0, color=\"gray\", linestyle=\"--\", linewidth=0.8)\n",
    "plt.grid(True, linestyle=\"--\", alpha=0.5)\n",
    "plt.show()"
   ]
  },
  {
   "cell_type": "code",
   "execution_count": null,
   "id": "a243331f-b222-4715-936a-0231fa3a0594",
   "metadata": {},
   "outputs": [],
   "source": [
    "avg_corr_matrix_afferent, counts_afferent = bootstrap_correlations(connectivity_matrix = df_average, \n",
    "                                                 hippocampal_indices=hippocampal_regions, \n",
    "                                                 target_cols=spearman_df_to.index,\n",
    "                                                 n_iterations=1000)"
   ]
  },
  {
   "cell_type": "code",
   "execution_count": null,
   "id": "878f4213-8a0e-483e-8118-02b3319700e8",
   "metadata": {},
   "outputs": [],
   "source": [
    "# Flatten matrices to get corresponding values\n",
    "x_values = spearman_df_to_hpc.to_numpy().flatten()  \n",
    "y_values = avg_corr_matrix_afferent.to_numpy().flatten()\n",
    "\n",
    "# Scatter plot\n",
    "plt.figure(figsize=(6, 6))\n",
    "plt.scatter(x_values, y_values, alpha=0.6, edgecolor=\"k\")\n",
    "plt.xlabel(\"Average correlations across 1000 simulations\")\n",
    "plt.ylabel(\"Hippocampal correlations\")\n",
    "plt.title(\"Scatter plot comparing efferent correlation values between HPC and random sample regions\")\n",
    "plt.axhline(y=0, color=\"gray\", linestyle=\"--\", linewidth=0.8)\n",
    "plt.axvline(x=0, color=\"gray\", linestyle=\"--\", linewidth=0.8)\n",
    "plt.grid(True, linestyle=\"--\", alpha=0.5)\n",
    "plt.show()"
   ]
  }
 ],
 "metadata": {
  "kernelspec": {
   "display_name": "Python 3 (ipykernel)",
   "language": "python",
   "name": "python3"
  },
  "language_info": {
   "codemirror_mode": {
    "name": "ipython",
    "version": 3
   },
   "file_extension": ".py",
   "mimetype": "text/x-python",
   "name": "python",
   "nbconvert_exporter": "python",
   "pygments_lexer": "ipython3",
   "version": "3.12.7"
  }
 },
 "nbformat": 4,
 "nbformat_minor": 5
}
